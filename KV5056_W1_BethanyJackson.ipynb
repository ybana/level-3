{
  "nbformat": 4,
  "nbformat_minor": 0,
  "metadata": {
    "colab": {
      "provenance": [],
      "authorship_tag": "ABX9TyNe4MF1ySFsPuqVvaKTXZRk"
    },
    "kernelspec": {
      "name": "python3",
      "display_name": "Python 3"
    },
    "language_info": {
      "name": "python"
    }
  },
  "cells": [
    {
      "cell_type": "code",
      "execution_count": 15,
      "metadata": {
        "colab": {
          "base_uri": "https://localhost:8080/"
        },
        "id": "HCjS-zTsFDAy",
        "outputId": "c49808d1-4006-4e15-a8f4-c2f999c21023"
      },
      "outputs": [
        {
          "output_type": "stream",
          "name": "stdout",
          "text": [
            "Python: 3.12.11\n",
            "DS: Linux-6.6.97+-x86_64-with-glibc2.35\n"
          ]
        }
      ],
      "source": [
        "import sys, platform\n",
        "print(\"Python:\", sys.version.split()[0])\n",
        "print(\"DS:\", platform.platform())"
      ]
    },
    {
      "cell_type": "code",
      "source": [
        "!pip -q install --upgrade pip\n",
        "!pip -q install numpy pandas scikit-learn matplotlib"
      ],
      "metadata": {
        "id": "kGZc4kxdGBfD"
      },
      "execution_count": 16,
      "outputs": []
    },
    {
      "cell_type": "code",
      "source": [
        "import numpy as np, pandas as pd, matplotlib.pyplot as plt\n",
        "from sklearn.datasets import make_classification\n",
        "from sklearn.model_selection import train_test_split\n",
        "from sklearn.compose import ColumnTransformer\n",
        "from sklearn.pipeline import Pipeline\n",
        "from sklearn.impute import SimpleImputer\n",
        "from sklearn.preprocessing import OneHotEncoder, StandardScaler\n",
        "from sklearn.linear_model import LogisticRegression\n",
        "from sklearn.metrics import  confusion_matrix, accuracy_score\n",
        "np.random.seed(42)"
      ],
      "metadata": {
        "id": "pYPwGrKWGVIk"
      },
      "execution_count": 17,
      "outputs": []
    },
    {
      "cell_type": "code",
      "source": [
        "X_num, y = make_classification(\n",
        "    n_samples=800, n_features=2, n_informative=2, n_redundant=0, class_sep=1.2, random_state=42\n",
        ")\n",
        "tmp = pd.DataFrame(X_num, columns=[\"num0\",\"num1\"])\n"
      ],
      "metadata": {
        "id": "9OVEAldQIXvd"
      },
      "execution_count": 18,
      "outputs": []
    },
    {
      "cell_type": "code",
      "source": [
        "df = pd.DataFrame({\n",
        "    \"age\": np.clip (np.round(tmp[\"num0\"]*10 + 40), 18, 80).astype(int),\n",
        "    \"income\": np.round(np.exp(tmp[\"num1\"]+ 10)/1e4, 2),\n",
        "    \"city\": np.random.choice([\"Newcastle\",\"Durham\",\"Leeds\",\"Manchester\"], size=len(tmp)),\n",
        "    \"channel\": np.random.choice([\"web\",\"store\",\"phone\"], size=len(tmp), p=[0.6,0.3,0.1]),\n",
        "    \"bought\": y.astype(int)\n",
        "})"
      ],
      "metadata": {
        "id": "N5eV5jPcJM1E"
      },
      "execution_count": 19,
      "outputs": []
    }
  ]
}